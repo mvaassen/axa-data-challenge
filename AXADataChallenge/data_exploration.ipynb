{
 "cells": [
  {
   "cell_type": "markdown",
   "id": "d527b8d6-097e-46d9-a0a2-133c03453c04",
   "metadata": {},
   "source": [
    "# Hello\n",
    "Let's crunch some data!"
   ]
  },
  {
   "cell_type": "code",
   "execution_count": null,
   "id": "4197916f-ff61-445e-8b35-7d86b8a2272c",
   "metadata": {},
   "outputs": [],
   "source": [
    "import sqlite3\n",
    "import pandas as "
   ]
  }
 ],
 "metadata": {
  "kernelspec": {
   "display_name": "Python 3 (ipykernel)",
   "language": "python",
   "name": "python3"
  },
  "language_info": {
   "codemirror_mode": {
    "name": "ipython",
    "version": 3
   },
   "file_extension": ".py",
   "mimetype": "text/x-python",
   "name": "python",
   "nbconvert_exporter": "python",
   "pygments_lexer": "ipython3",
   "version": "3.12.4"
  }
 },
 "nbformat": 4,
 "nbformat_minor": 5
}
